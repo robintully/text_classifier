{
 "cells": [
  {
   "cell_type": "markdown",
   "metadata": {},
   "source": [
    "Data Formatting\n",
    "n_unique_classes = len(csv_df.author.unique())"
   ]
  },
  {
   "cell_type": "code",
   "execution_count": 1,
   "metadata": {},
   "outputs": [
    {
     "name": "stdout",
     "output_type": "stream",
     "text": [
      "22132\n",
      "4454\n",
      "1046\n"
     ]
    },
    {
     "name": "stderr",
     "output_type": "stream",
     "text": [
      "/home/robin/.conda/envs/pytorch/lib/python3.6/site-packages/pandas/core/generic.py:4619: SettingWithCopyWarning: \n",
      "A value is trying to be set on a copy of a slice from a DataFrame\n",
      "\n",
      "See the caveats in the documentation: http://pandas.pydata.org/pandas-docs/stable/indexing.html#indexing-view-versus-copy\n",
      "  self._update_inplace(new_data)\n"
     ]
    }
   ],
   "source": [
    "import shutil\n",
    "import os\n",
    "import pandas as pd\n",
    "import numpy as np\n",
    "import pdb\n",
    "shutil.rmtree('data')\n",
    "os.mkdir('data')\n",
    "\n",
    "csv_df = pd.read_csv('tweets.csv', names = ['text','author','topic'])\n",
    "csv_df = csv_df.dropna()\n",
    "train_mask = np.random.rand(len(csv_df)) < 0.8\n",
    "train_df = csv_df[train_mask]\n",
    "\n",
    "train_df[\"text\"].replace(\n",
    "    {'\\r?\\n' : '', '\\t': ''},\n",
    "    regex=True,\n",
    "    inplace=True,\n",
    "    )\n",
    "\n",
    "remaining_df = csv_df[~train_mask]\n",
    "val_mask = np.random.rand(len(remaining_df)) < 0.8\n",
    "test_df = remaining_df[val_mask]\n",
    "val_df = remaining_df[~val_mask]\n",
    "\n",
    "val_df[\"text\"].replace(\n",
    "    {'\\r?\\n' : '', '\\t': ''},\n",
    "    regex=True,\n",
    "    inplace=True,\n",
    "    )\n",
    "\n",
    "\n",
    "\n",
    "    \n",
    "print(len(train_df))\n",
    "train_df.to_csv('data/train.csv',index= False, columns=['text','author'],header=False, sep='\\t', line_terminator='\\n')\n",
    "print (len(test_df))\n",
    "test_df.to_csv('data/test.csv',index= False, columns=['text','author'],header=False,  sep='\\t')\n",
    "print (len(val_df))\n",
    "val_df.to_csv('data/val.csv',index= False, columns=['text','author'],header=False, sep='\\t')"
   ]
  },
  {
   "cell_type": "code",
   "execution_count": null,
   "metadata": {},
   "outputs": [],
   "source": []
  },
  {
   "cell_type": "code",
   "execution_count": null,
   "metadata": {},
   "outputs": [],
   "source": []
  }
 ],
 "metadata": {
  "kernelspec": {
   "display_name": "Pytorch",
   "language": "python",
   "name": "pytorch"
  },
  "language_info": {
   "codemirror_mode": {
    "name": "ipython",
    "version": 3
   },
   "file_extension": ".py",
   "mimetype": "text/x-python",
   "name": "python",
   "nbconvert_exporter": "python",
   "pygments_lexer": "ipython3",
   "version": "3.6.4"
  }
 },
 "nbformat": 4,
 "nbformat_minor": 2
}
