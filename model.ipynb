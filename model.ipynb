{
 "cells": [
  {
   "cell_type": "code",
   "execution_count": 1,
   "metadata": {},
   "outputs": [],
   "source": [
    "import sys\n",
    "import pdb\n",
    "\n",
    "import spacy\n",
    "from torchtext import data\n",
    "from tqdm import tqdm\n",
    "import pandas as pd\n",
    "import numpy as np\n",
    "\n",
    "import torch\n",
    "from torch.autograd import Variable\n",
    "import torch.autograd as autograd\n",
    "import torch.nn as nn\n",
    "import torch.nn.functional as F\n",
    "import torch.optim as optim\n",
    "\n"
   ]
  },
  {
   "cell_type": "markdown",
   "metadata": {},
   "source": [
    "#### Sentence Tokenization"
   ]
  },
  {
   "cell_type": "code",
   "execution_count": 2,
   "metadata": {},
   "outputs": [],
   "source": [
    "spacy_en = spacy.load('en')\n",
    "def tokenizer(text): # create a tokenizer function\n",
    "    return [tok.text for tok in spacy_en.tokenizer(text)]\n"
   ]
  },
  {
   "cell_type": "markdown",
   "metadata": {},
   "source": [
    "#### Prepare Data\n",
    "debug functions for data\n",
    "\n",
    "~~~~\n",
    "\n",
    "train_iter, val_iter, test_iter = data.Iterator.splits(\n",
    "        (train, val, test), batch_sizes=(256,256,30), device=0, repeat=False)\n",
    "print(train[0].__dict__['tweet'])\n",
    "\n",
    "for i,x in enumerate(train):\n",
    "    try:\n",
    "        x.__dict__['tweet']\n",
    "        x.__dict__['author']\n",
    "    except:\n",
    "        print(i)\n",
    "~~~~"
   ]
  },
  {
   "cell_type": "code",
   "execution_count": 3,
   "metadata": {},
   "outputs": [],
   "source": [
    "TEXT = data.ReversibleField(sequential=True,tokenize=tokenizer, lower=True, fix_length=40)\n",
    "LABEL = data.Field(sequential=False)\n",
    "\n",
    "tweet_datafields = [('tweet', TEXT), ('author', LABEL)]\n",
    "\n",
    "train, val =  data.TabularDataset.splits(\n",
    "        path='./data/', train='train.csv',\n",
    "        validation='val.csv', format='tsv',\n",
    "        fields= tweet_datafields)\n",
    "\n",
    "train_iter = data.Iterator(train, batch_size=256, device=0, repeat=False)\n",
    "val_iter = data.Iterator(val, batch_size=64, device=0, sort=False, sort_within_batch=False, repeat=False)\n",
    "\n",
    "#sort_key=lambda x: len(x.text)\n",
    "TEXT.build_vocab(train, vectors=\"glove.6B.200d\")\n",
    "LABEL.build_vocab(train)\n"
   ]
  },
  {
   "cell_type": "code",
   "execution_count": 4,
   "metadata": {},
   "outputs": [],
   "source": [
    "vocab = TEXT.vocab\n",
    "class Yoon_Text(nn.Module):\n",
    "    \n",
    "    def __init__(self, x_label, y_label):\n",
    "        super(Yoon_Text, self).__init__()\n",
    "        self.x_label = x_label\n",
    "        self.y_label = y_label\n",
    "        self.embed = nn.Embedding(len(x_label.vocab), 200)\n",
    "        self.embed.weight.data.copy_(vocab.vectors)\n",
    "    \n",
    "        self.conv1 = nn.Conv2d(1, 100, (3, 200))\n",
    "        self.conv2 = nn.Conv2d(1, 100, (4, 200))\n",
    "        self.conv3 = nn.Conv2d(1, 100, (5, 200))\n",
    "\n",
    "        self.dropout = nn.Dropout(0.5)\n",
    "        self.fc1 = nn.Linear(300, len(y_label.vocab) - 1)\n",
    "\n",
    "    def forward(self, x):\n",
    "        x = self.embed(x)  \n",
    "        x = x.unsqueeze(1) \n",
    "\n",
    "        x1 = F.relu(self.conv1(x)).squeeze(3) \n",
    "        x1 = F.max_pool1d(x1, x1.size(2)).squeeze(2)\n",
    "\n",
    "        x2 = F.relu(self.conv2(x)).squeeze(3)\n",
    "        x2 = F.max_pool1d(x2, x2.size(2)).squeeze(2)\n",
    "\n",
    "        x3 = F.relu(self.conv2(x)).squeeze(3)\n",
    "        x3 = F.max_pool1d(x3, x3.size(2)).squeeze(2)\n",
    "\n",
    "        x = torch.cat((x1, x2, x3), 1)\n",
    "        x = self.dropout(x) \n",
    "        logit = self.fc1(x) \n",
    "        return logit\n",
    "    \n",
    "    def answer(self, text):\n",
    "        text = self.x_label.preprocess(text)\n",
    "        text = [[self.x_label.vocab.stoi[x] for x in text]]\n",
    "        x = self.x_label.tensor_type(text)\n",
    "        x = autograd.Variable(x, volatile=True).cuda()\n",
    "        output = self.forward(x)\n",
    "        _, predicted = torch.max(output, 1)\n",
    "        return (self.y_label.vocab.itos[predicted.data[0]+1])"
   ]
  },
  {
   "cell_type": "code",
   "execution_count": 5,
   "metadata": {},
   "outputs": [
    {
     "name": "stderr",
     "output_type": "stream",
     "text": [
      "  Train:: 100%|██████████| 87/87 [00:04<00:00, 18.17it/s]\n",
      "  Eval:: 100%|██████████| 17/17 [00:00<00:00, 271.34it/s]\n",
      "  Train::   2%|▏         | 2/87 [00:00<00:04, 19.76it/s]"
     ]
    },
    {
     "name": "stdout",
     "output_type": "stream",
     "text": [
      "Training Loss: 1, Validation Loss: 288.924731429966\n"
     ]
    },
    {
     "name": "stderr",
     "output_type": "stream",
     "text": [
      "  Train:: 100%|██████████| 87/87 [00:03<00:00, 26.41it/s]\n",
      "  Eval:: 100%|██████████| 17/17 [00:00<00:00, 286.74it/s]\n",
      "  Train::   2%|▏         | 2/87 [00:00<00:04, 19.65it/s]"
     ]
    },
    {
     "name": "stdout",
     "output_type": "stream",
     "text": [
      "Training Loss: 2, Validation Loss: 123.3918200196891\n"
     ]
    },
    {
     "name": "stderr",
     "output_type": "stream",
     "text": [
      "  Train:: 100%|██████████| 87/87 [00:03<00:00, 26.48it/s]\n",
      "  Eval:: 100%|██████████| 17/17 [00:00<00:00, 283.05it/s]\n",
      "  Train::   2%|▏         | 2/87 [00:00<00:04, 19.43it/s]"
     ]
    },
    {
     "name": "stdout",
     "output_type": "stream",
     "text": [
      "Training Loss: 3, Validation Loss: 72.7104907556512\n"
     ]
    },
    {
     "name": "stderr",
     "output_type": "stream",
     "text": [
      "  Train:: 100%|██████████| 87/87 [00:03<00:00, 26.51it/s]\n",
      "  Eval:: 100%|██████████| 17/17 [00:00<00:00, 282.06it/s]\n",
      "  Train::   2%|▏         | 2/87 [00:00<00:04, 19.90it/s]"
     ]
    },
    {
     "name": "stdout",
     "output_type": "stream",
     "text": [
      "Training Loss: 4, Validation Loss: 44.52194872464257\n"
     ]
    },
    {
     "name": "stderr",
     "output_type": "stream",
     "text": [
      "  Train:: 100%|██████████| 87/87 [00:03<00:00, 26.54it/s]\n",
      "  Eval:: 100%|██████████| 17/17 [00:00<00:00, 275.45it/s]"
     ]
    },
    {
     "name": "stdout",
     "output_type": "stream",
     "text": [
      "Training Loss: 5, Validation Loss: 28.119983608352726\n"
     ]
    },
    {
     "name": "stderr",
     "output_type": "stream",
     "text": [
      "\n"
     ]
    }
   ],
   "source": [
    "model = Yoon_Text(TEXT, LABEL)\n",
    "model.cuda()\n",
    "\n",
    "opt = torch.optim.Adam(model.parameters(), lr=0.001)\n",
    "\n",
    "model.cuda()\n",
    "epochs = 5\n",
    " \n",
    "for epoch in range(1, epochs + 1):\n",
    "    running_loss = 0.0\n",
    "    running_corrects = 0\n",
    "    \n",
    "    # Training \n",
    "    model.train() \n",
    "    for batch in tqdm(train_iter, total=len(train_iter), desc=\"  Train:\"):\n",
    "        opt.zero_grad()\n",
    "        feature, target = batch.tweet, batch.author\n",
    "        feature.data.t_(), target.data.sub_(1)  # batch first, index align\n",
    "        feature.cuda(), target.cuda()\n",
    " \n",
    "        preds = model(feature)\n",
    "        loss = F.cross_entropy(preds, target)\n",
    "        loss.backward()\n",
    "        opt.step()\n",
    " \n",
    "        running_loss += loss.data[0] * feature.size(0)\n",
    " \n",
    "    epoch_loss = running_loss / len(train_iter)\n",
    " \n",
    "    # Validation\n",
    "    val_loss = 0.0\n",
    "    model.eval() # turn on evaluation mode\n",
    "    for batch in tqdm(val_iter, total=len(val_iter), desc=\"  Eval:\"):\n",
    "        feature, target = batch.tweet, batch.author\n",
    "        feature.data.t_(), target.data.sub_(1)  # batch first, index align\n",
    "        feature.cuda(), target.cuda()\n",
    "        preds = model(feature)\n",
    "        loss = F.cross_entropy(preds, target)\n",
    "        val_loss += loss.data[0] * feature.size(0)\n",
    " \n",
    "    val_loss /= len(val_iter)\n",
    "    tqdm.write('Training Loss: {}, Validation Loss: {}'.format(epoch, epoch_loss, val_loss))"
   ]
  },
  {
   "cell_type": "code",
   "execution_count": 6,
   "metadata": {},
   "outputs": [
    {
     "name": "stdout",
     "output_type": "stream",
     "text": [
      "neiltyson\n"
     ]
    }
   ],
   "source": [
    "text = \"\"\"@naterob2222 Earth’s rotation rate relative to the stars: 23h 56m 04s. \n",
    "Relative to the Sun: 24h, but with a leap second occasionaly added\"\"\"\n",
    "print(model.answer(text))"
   ]
  },
  {
   "cell_type": "code",
   "execution_count": 7,
   "metadata": {},
   "outputs": [
    {
     "name": "stdout",
     "output_type": "stream",
     "text": [
      "wmata\n"
     ]
    }
   ],
   "source": [
    "text = 'The silver line is on fire'\n",
    "print(model.answer(text))"
   ]
  },
  {
   "cell_type": "code",
   "execution_count": null,
   "metadata": {},
   "outputs": [],
   "source": []
  }
 ],
 "metadata": {
  "kernelspec": {
   "display_name": "Pytorch",
   "language": "python",
   "name": "pytorch"
  },
  "language_info": {
   "codemirror_mode": {
    "name": "ipython",
    "version": 3
   },
   "file_extension": ".py",
   "mimetype": "text/x-python",
   "name": "python",
   "nbconvert_exporter": "python",
   "pygments_lexer": "ipython3",
   "version": "3.6.4"
  }
 },
 "nbformat": 4,
 "nbformat_minor": 2
}
